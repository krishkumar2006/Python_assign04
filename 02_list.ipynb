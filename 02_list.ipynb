{
  "nbformat": 4,
  "nbformat_minor": 0,
  "metadata": {
    "colab": {
      "provenance": [],
      "authorship_tag": "ABX9TyNGJkjBFQ1YNIezDQzijmdg",
      "include_colab_link": true
    },
    "kernelspec": {
      "name": "python3",
      "display_name": "Python 3"
    },
    "language_info": {
      "name": "python"
    }
  },
  "cells": [
    {
      "cell_type": "markdown",
      "metadata": {
        "id": "view-in-github",
        "colab_type": "text"
      },
      "source": [
        "<a href=\"https://colab.research.google.com/github/krishkumar2006/Python_assign04/blob/main/02_list.ipynb\" target=\"_parent\"><img src=\"https://colab.research.google.com/assets/colab-badge.svg\" alt=\"Open In Colab\"/></a>"
      ]
    },
    {
      "cell_type": "code",
      "execution_count": null,
      "metadata": {
        "id": "5mUIIi9PoYSh"
      },
      "outputs": [],
      "source": [
        "#01_add_many_numbers\n",
        "\n",
        "def add_many_number(numbers) -> int:\n",
        "     \"\"\"\n",
        "    Takes in a list of numbers and returns the sum of those numbers.\n",
        "    \"\"\"\n",
        "     Total : int  = 0\n",
        "     for number in numbers:\n",
        "      Total += number\n",
        "     return Total\n",
        "\n",
        "def main():\n",
        "    numbers:list[int] =  [2 , 4 , 3 , 5 , 7 ] # Make a list of numbers\n",
        "    sum_of_all_numbers:int =add_many_number(numbers)\n",
        "    print(sum_of_all_numbers)\n",
        "\n",
        "\n",
        "if __name__ == '__main__':\n",
        "    main()\n"
      ]
    },
    {
      "cell_type": "code",
      "source": [
        "# # 02_double_list\n",
        "def main():\n",
        "    numbers:list[int] = [3 , 4 , 5, 7, 8]\n",
        "\n",
        "    for a in range(len(numbers)):  # Loop through the indices of the list\n",
        "        Element = numbers[a]\n",
        "        numbers[1] = Element * 2\n",
        "\n",
        "    print(numbers)\n",
        "\n",
        "if __name__ == '__main__':\n",
        "    main()\n"
      ],
      "metadata": {
        "id": "av9InQH2olNV"
      },
      "execution_count": null,
      "outputs": []
    },
    {
      "cell_type": "code",
      "source": [
        "# 03_erase_canvas\n",
        "import pygame\n",
        "import time\n",
        "\n",
        "pygame.init()\n",
        "\n",
        "CANVA_WIDTH = 400\n",
        "CANVA_HEIGHT = 400\n",
        "CELL_SIZE = 40\n",
        "ERASER_SIZE = 20\n",
        "\n",
        "BLUE = (0,0,225)\n",
        "WHITE = (255,255,255)\n",
        "PINK = (225,182,193)\n",
        "\n",
        "screen = pygame.display.set_mode((CANVA_WIDTH,CANVA_HEIGHT))\n",
        "pygame.display.set_caption(\"Enter effect in pygame\")\n",
        "\n",
        "grid = []\n",
        "for row in range(0,CANVA_HEIGHT,CELL_SIZE):\n",
        "    for col in range(0,CANVA_WIDTH,CELL_SIZE):\n",
        "        rect = pygame.Rect(col,row,CELL_SIZE,CELL_SIZE)\n",
        "        grid.append(rect)\n",
        "\n",
        "eraser = pygame.Rect(200,200,ERASER_SIZE,ERASER_SIZE)\n",
        "\n",
        "running = True\n",
        "while running:\n",
        "    screen.fill(WHITE)\n",
        "\n",
        "    for rect in grid:\n",
        "        pygame.draw.rect(screen, BLUE, rect)\n",
        "\n",
        "    mouse_x , mouse_y = pygame.mouse.get_pos()\n",
        "    eraser.topleft = (mouse_x,mouse_y)\n",
        "\n",
        "    new_grid = []\n",
        "    for rect in grid:\n",
        "        if not eraser.colliderect(rect):\n",
        "            new_grid.append(rect)\n",
        "    grid = new_grid\n",
        "\n",
        "    pygame.draw.rect(screen, PINK , eraser)\n",
        "\n",
        "    for event in pygame.event.get():\n",
        "        if event.type == pygame.QUIT:\n",
        "            running = False\n",
        "\n",
        "    pygame.display.flip()\n",
        "    time.sleep(0.05)\n",
        "\n",
        "pygame.quit()"
      ],
      "metadata": {
        "id": "UUPVRDVfoqT3"
      },
      "execution_count": null,
      "outputs": []
    },
    {
      "cell_type": "code",
      "source": [
        "#04_flowing_with_data_structures\n",
        "\n",
        "def add_three_copies(my_list , data):\n",
        "    for i in range(3):\n",
        "        my_list.append(data)\n",
        "\n",
        "\n",
        "def main():\n",
        "    message = input(\"Enter your message to copy: \")\n",
        "    my_list = []\n",
        "    print(\"List before: \" , my_list )\n",
        "    add_three_copies(my_list , message)\n",
        "    print(\"List After: \" ,add_three_copies(my_list , message) )\n",
        "\n",
        "if __name__ == \"__main__\":\n",
        "    main()"
      ],
      "metadata": {
        "id": "1va1vylDpF57"
      },
      "execution_count": null,
      "outputs": []
    },
    {
      "cell_type": "code",
      "source": [
        "# 05_get_first_element\n",
        "\n",
        "def get_first_element(lst):\n",
        "     \"\"\"\n",
        "    Prints the first element of a provided list.\n",
        "    \"\"\"\n",
        "     print(\"The first element of list is: \", lst[0])\n",
        "\n",
        "def get_list():\n",
        "\n",
        "\n",
        "\n",
        "     list = []\n",
        "     element : str = input(\"Please enter an element of the list or press enter to stop.\")\n",
        "     while element != \"\":\n",
        "          list.append(element)\n",
        "          element : str = input(\"Please enter an element of the list or press enter to stop.\")\n",
        "\n",
        "     return list\n",
        "\n",
        "def main():\n",
        "     list = get_list()\n",
        "     get_first_element(list)\n",
        "\n",
        "if __name__ == '__main__':\n",
        "     main()\n",
        "\n"
      ],
      "metadata": {
        "id": "6Umlvl7ZpNn2"
      },
      "execution_count": null,
      "outputs": []
    },
    {
      "cell_type": "code",
      "source": [
        "#06_get_last_element\n",
        "\n",
        "def get_last_element(list):\n",
        "    print(list[-1])\n",
        "\n",
        "def main():\n",
        "    simple_list = [1 , 2 , 3 , 4 , 5 , 6]\n",
        "    get_last_element(simple_list)\n",
        "\n",
        "if __name__ == '__main__':\n",
        "    main()\n"
      ],
      "metadata": {
        "id": "G9kCE9pGpWoW"
      },
      "execution_count": null,
      "outputs": []
    },
    {
      "cell_type": "code",
      "source": [
        "# 07_get_list\n",
        "\n",
        "def main():\n",
        "    List = []  # Make an empty list to store things in\n",
        "\n",
        "    value = input(\"Enter the value: \") # Get an initial value\n",
        "    while value:  # While the user input isn't an empty value\n",
        "        List.append(value) # Add val to list\n",
        "        value = input(\"Enter the value: \") # Get the next value to add\n",
        "\n",
        "        print(\"Here is the list: \" , List)\n",
        "\n",
        "if __name__ == '__main__':\n",
        "    main()"
      ],
      "metadata": {
        "id": "PsEC_E6Npe9p"
      },
      "execution_count": null,
      "outputs": []
    },
    {
      "cell_type": "code",
      "source": [
        "#08_shorten\n",
        "MAX_LENGTH : int = 3\n",
        "\n",
        "def shorten(list):\n",
        "   while len(list) > MAX_LENGTH:\n",
        "    last_elem = list.pop()\n",
        "    print(last_elem)\n",
        "\n",
        "def get_last():\n",
        "\n",
        "    # Prompts the user to enter one element of the list at a time and returns the resulting list.\n",
        "    list =[]\n",
        "    element = input(\"Enter the element\")\n",
        "    while element != \"\":\n",
        "        list.append(element)\n",
        "        element = input(\"Enter the element\")\n",
        "    return list\n",
        "\n",
        "def main():\n",
        "    lst = get_last()\n",
        "    shorten(lst)\n",
        "    print(lst)\n",
        "\n",
        "if __name__ == '__main__':\n",
        "    main()\n",
        "\n"
      ],
      "metadata": {
        "id": "x2TCYsG6potj"
      },
      "execution_count": null,
      "outputs": []
    }
  ]
}