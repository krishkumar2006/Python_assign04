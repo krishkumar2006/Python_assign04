{
  "nbformat": 4,
  "nbformat_minor": 0,
  "metadata": {
    "colab": {
      "provenance": [],
      "authorship_tag": "ABX9TyO250imfS0sjOmZb7Tjsneb",
      "include_colab_link": true
    },
    "kernelspec": {
      "name": "python3",
      "display_name": "Python 3"
    },
    "language_info": {
      "name": "python"
    }
  },
  "cells": [
    {
      "cell_type": "markdown",
      "metadata": {
        "id": "view-in-github",
        "colab_type": "text"
      },
      "source": [
        "<a href=\"https://colab.research.google.com/github/krishkumar2006/Python_assign04/blob/main/01_expressions.ipynb\" target=\"_parent\"><img src=\"https://colab.research.google.com/assets/colab-badge.svg\" alt=\"Open In Colab\"/></a>"
      ]
    },
    {
      "cell_type": "code",
      "execution_count": null,
      "metadata": {
        "id": "3gb4lAFtVXtk"
      },
      "outputs": [],
      "source": [
        "# 01_dicesimulator\n",
        "import random\n",
        "\n",
        "SIDES_NUM = 6\n",
        "\n",
        "def rolldice():\n",
        "    die1 :int = random.randint(1 , SIDES_NUM)\n",
        "    die2 :int = random.randint(1 , SIDES_NUM)\n",
        "    total:int = die1 + die2\n",
        "    print(\"The total is \" + str(total))\n",
        "\n",
        "def main():\n",
        "    die1:int  = 10\n",
        "    print(\"dice in main() starts as \" +str(die1))\n",
        "    rolldice()\n",
        "    rolldice()\n",
        "    rolldice()\n",
        "    print(\"dice in main() starts as \" +str(die1))\n",
        "\n",
        "if __name__ == '__main__':\n",
        "    main()\n"
      ]
    },
    {
      "cell_type": "code",
      "source": [
        "# 02_e=mc2\n",
        "C : int = 299792458 #The speed of light in m/s\n",
        "\n",
        "def main():\n",
        "    Mass:int = float(input(\"Enter the mass in kilograms: \"))\n",
        "    Energy: float = Mass * (C ** 2)\n",
        "\n",
        "\n",
        "#   Display work to the user\n",
        "    print(\"e = m * C^2 \")\n",
        "    print(\"M = \" + str(Mass) + \"kg\")\n",
        "    print(\"C = \" + str(C) + \"m/s\")\n",
        "\n",
        "    print(\"m is\" + str(Energy) + \"joules of energy\" )\n",
        "\n",
        "if __name__ == '__main__':\n",
        "    main()\n"
      ],
      "metadata": {
        "id": "5fvclkHhV3S1"
      },
      "execution_count": null,
      "outputs": []
    },
    {
      "cell_type": "code",
      "source": [
        "# 03_feet_to_inches\n",
        "INCHES : int = 12  # Conversion factor. There are 12 inches for 1 foot.\n",
        "\n",
        "def main():\n",
        "    \"\"\"\" Convert feet into inches\"\"\"\n",
        "    Feet:int = float(input(\"Enter your Feet to convert in inches: \"))\n",
        "    total : int = Feet * INCHES  # Perform the conversion\n",
        "    print(str(total) + \" inches\")\n",
        "\n",
        "if __name__ == '__main__':\n",
        "    main()\n"
      ],
      "metadata": {
        "id": "ftqkiQwqWMuP"
      },
      "execution_count": null,
      "outputs": []
    },
    {
      "cell_type": "code",
      "source": [
        "#04_pythagorean_theorem.\n",
        "import math  # Import the math library so we can use the sqrt function\n",
        "\n",
        "def main():\n",
        "     # Get the two side lengths from the user and cast them to be numbers\n",
        "    AB :float = float(input(\"Enter the length of AB: \"))\n",
        "    AC :float = float(input(\"Enter the lenght of AC: \"))\n",
        "\n",
        "    BC:float = math.sqrt(AB**2 + AC**2)\n",
        "\n",
        "    print(\"The lenght of BC (the hypotennus) is \" + str(BC))\n",
        "\n",
        "if __name__ == '__main__':\n",
        "  main()\n"
      ],
      "metadata": {
        "id": "oMpYrIEdWhxM"
      },
      "execution_count": null,
      "outputs": []
    },
    {
      "cell_type": "code",
      "source": [
        "#5_remainder_division\n",
        "def main():\n",
        "    Division1:int = int(input(\"Enter the number of division: \"))\n",
        "    Division2 :int = int(input(\"Enter the number divided by: \"))\n",
        "\n",
        "    fullDivide:int = Division1 // Division2\n",
        "    remainder: int = Division1 % Division2\n",
        "\n",
        "    print(\"The reult of the division is \" + str(fullDivide) + \" with remainder \" + str(remainder))\n",
        "\n",
        "if __name__ == '__main__':\n",
        "  main()\n",
        "\n"
      ],
      "metadata": {
        "id": "g5duoRkkWrbq"
      },
      "execution_count": null,
      "outputs": []
    },
    {
      "cell_type": "code",
      "source": [
        "#06__rolldice\n",
        "\"\"\"\n",
        "Simulate rolling two dice, and prints results of each\n",
        "roll as well as the total.\n",
        "\"\"\"\n",
        "# Import the random library which lets us simulate random things like dice!\n",
        "import random\n",
        "\n",
        "# Number of sides on each die to roll\n",
        "NUM_SLIDE:int = 6\n",
        "\n",
        "def main():\n",
        "\n",
        "\n",
        "    # Roll die\n",
        "    dice1:int = random.randint(1 , NUM_SLIDE)\n",
        "    dice2:int = random.randint(1 , NUM_SLIDE)\n",
        "    total : int = dice1 + dice2\n",
        "    print(\"The die face number is \" + str(dice1))\n",
        "    print(\"The die2 face number is \" + str(dice2))\n",
        "    print( \"The Total of two dice \"+ str(total))\n",
        "\n",
        "if __name__ == '__main__':\n",
        "   main()\n"
      ],
      "metadata": {
        "id": "-lrmqcFNWwYO"
      },
      "execution_count": null,
      "outputs": []
    },
    {
      "cell_type": "code",
      "source": [
        "#07_seconds_in_year\n",
        "# Useful constants to help make the math easier and cleaner!\n",
        "DAYS_IN_A_YEAR: int = 365 #Days\n",
        "HOURS_IN_A_DAYS :int = 24 #Hours\n",
        "MINUTES_IN_AN_HOUR:int = 60 #Minutes\n",
        "SECONDS_IN_A_MINUTE : int = 60 #Seconds\n",
        "\n",
        "def main():\n",
        "    Total_second:int = DAYS_IN_A_YEAR * HOURS_IN_A_DAYS * MINUTES_IN_AN_HOUR *SECONDS_IN_A_MINUTE\n",
        "    print(\"There are \" + str(Total_second) + \" seconds in a year\")\n",
        "\n",
        "if __name__ == '__main__':\n",
        "    main()\n"
      ],
      "metadata": {
        "id": "sqOM6YHgW1Vg"
      },
      "execution_count": null,
      "outputs": []
    },
    {
      "cell_type": "code",
      "source": [
        "#08_tiny_mad_lib\n",
        "SENTENCE_START:str = \"Panaversity is fun. I learned to program and used Python to make my \"\n",
        "\n",
        "def main():\n",
        "    Adjective = str(input(\"please enter an adjective and press enter: \"))\n",
        "    Noun = str(input(\"please enter an noun and press enter: \"))\n",
        "    Verb = str(input(\"please enter an verb and press enter: \"))\n",
        "\n",
        "    print(SENTENCE_START + Adjective +\" \"+ Noun +\" \"+ Verb)\n",
        "\n",
        "if __name__ == '__main__':\n",
        "    main()"
      ],
      "metadata": {
        "id": "o_Qkd_H0W53l"
      },
      "execution_count": null,
      "outputs": []
    }
  ]
}