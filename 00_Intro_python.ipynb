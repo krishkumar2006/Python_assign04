{
  "nbformat": 4,
  "nbformat_minor": 0,
  "metadata": {
    "colab": {
      "provenance": [],
      "authorship_tag": "ABX9TyMLndRCOIGyOfEukc5RwSm5",
      "include_colab_link": true
    },
    "kernelspec": {
      "name": "python3",
      "display_name": "Python 3"
    },
    "language_info": {
      "name": "python"
    }
  },
  "cells": [
    {
      "cell_type": "markdown",
      "metadata": {
        "id": "view-in-github",
        "colab_type": "text"
      },
      "source": [
        "<a href=\"https://colab.research.google.com/github/krishkumar2006/Python_assign04/blob/main/00_Intro_python.ipynb\" target=\"_parent\"><img src=\"https://colab.research.google.com/assets/colab-badge.svg\" alt=\"Open In Colab\"/></a>"
      ]
    },
    {
      "cell_type": "code",
      "execution_count": null,
      "metadata": {
        "id": "RH4X5nb0wc3w"
      },
      "outputs": [],
      "source": [
        "#01\n",
        "# Write a Python program that takes two integer inputs from the user and calculates their sum\n",
        "\n",
        "def main():\n",
        "    num1:str = input(\"Enter your first number:\")\n",
        "    num1 : int = int(num1)\n",
        "    num2:str = input(\"Enter your second number:\")\n",
        "    num2 : int = int(num2)\n",
        "    total:int = num1 + num2\n",
        "    print(\"The total sum is\" + str(total) + \".\" )\n",
        "\n",
        "if __name__ == '__main__':\n",
        "    main()"
      ]
    },
    {
      "cell_type": "code",
      "source": [
        "#02\n",
        "# Write a program which asks the user what their favorite animal is, and then always responds with \"My favorite animal is also ___!\" (the blank should be filled in with the user-inputted animal, of course).\n",
        "\n",
        "def main():\n",
        "    Animal = input(\"Enter your favourite animal?\")\n",
        "    print(f\"My favourite animal is also {Animal}\")\n",
        "\n",
        "if __name__ == '__main__':\n",
        "    main()"
      ],
      "metadata": {
        "id": "VuZNKN8Qxxi5"
      },
      "execution_count": null,
      "outputs": []
    },
    {
      "cell_type": "code",
      "source": [
        "#03\n",
        "# Write a program which prompts the user for a temperature in Fahrenheit (this can be a number with decimal places!) and outputs the temperature converted to Celsius.\n",
        "\n",
        "def main():\n",
        "    print(\"Temperature must me in Fahrenheit! :)\")\n",
        "    Fahrenheit = float(input(\"Enter temperature in fahrenheit \"))\n",
        "    celsius = (Fahrenheit - 32) * 5.0 / 9.0\n",
        "    print(f\"TEMPERATURE: {Fahrenheit}F = {celsius}C\" )\n",
        "\n",
        "\n",
        "# This provided line is required at the end of\n",
        "# Python file to call the main() function.\n",
        "if __name__ == '__main__':\n",
        "    main()"
      ],
      "metadata": {
        "id": "q52LFUnIx8pR"
      },
      "execution_count": null,
      "outputs": []
    },
    {
      "cell_type": "code",
      "source": [
        "#04\n",
        "# Write a program to solve this age-related riddle!\n",
        "# Anton, Beth, Chen, Drew, and Ethan are all friends. Their ages are as follows:\n",
        "# Anton is 21 years old.\n",
        "# Beth is 6 years older than Anton.\n",
        "# Chen is 20 years older than Beth.\n",
        "# Drew is as old as Chen's age plus Anton's age.\n",
        "# Ethan is the same age as Chen.\n",
        "\n",
        "def main():\n",
        "    Anton : int = 21  #Anton's age is given as 21 years old\n",
        "    Beth : int = Anton + 6 # Beth is 6 years older than Anton, so add 6 to Anton's age to get Beth's\n",
        "    Chen : int = Beth + 20 # Chen is 20 years older than Beth, so add 20 to Beth's age to get Chen's\n",
        "    Drew : int = Chen + Anton # Drew is as old as Chen's age plus Anton's age, so add them together\n",
        "    Ethan : int = Chen  # Ethan is the same age as Chen, so set Ethan's age equal to Chen's\n",
        "\n",
        "    print(\"Anton age is \" + str(Anton))\n",
        "    print(\"Beth age is \" + str(Beth))\n",
        "    print(\"Chen age is \" + str(Chen))\n",
        "    print(\"Drew age is \" + str(Drew))\n",
        "    print(\"Ethan age is \" + str(Ethan))\n",
        "\n",
        "if __name__ : ' __main__ '\n",
        "main()\n"
      ],
      "metadata": {
        "id": "LYss7E0Nyd32"
      },
      "execution_count": null,
      "outputs": []
    },
    {
      "cell_type": "code",
      "source": [
        "#05\n",
        "# Prompt the user to enter the lengths of each side of a triangle and then calculate and print the perimeter of the triangle (the sum of all of the side lengths).\n",
        "def main():\n",
        "    side1 : float = float(input(\"What is the lenght of side one? \"))\n",
        "    side2 : float = float(input(\"What is the lenght of side two? \"))\n",
        "    side3 : float = float(input(\"What is the lenght of side three? \"))\n",
        "\n",
        "    print(\"The perimeter of all the triangle is \" +str(side1)+str(side2)+str(side3))\n",
        "\n",
        "if __name__ : ' __main__ '\n",
        "main()\n"
      ],
      "metadata": {
        "id": "foEUOt_lzUmK"
      },
      "execution_count": null,
      "outputs": []
    },
    {
      "cell_type": "code",
      "source": [
        "#06\n",
        "#Ask the user for a number and print its square (the product of the number times itself).\n",
        "def main():\n",
        "    square: float= float(input(\"Type a square to see its square: \")) # Make sure to cast the input to a float so we can do math with it!\n",
        "    print(str(square) + \" square is \" + str(square ** 2))\n",
        "\n",
        "if __name__ : ' __main__ '\n",
        "main()\n"
      ],
      "metadata": {
        "id": "DRz7PLamzcA1"
      },
      "execution_count": null,
      "outputs": []
    }
  ]
}